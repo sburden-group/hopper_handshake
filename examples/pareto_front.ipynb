{
 "cells": [
  {
   "cell_type": "markdown",
   "metadata": {},
   "source": [
    "# Generating a set of locally efficient designs\n",
    "This code is written in Julia, to run it, ensure that your kernel is a *Julia* kernel and *not* Python.\n",
    "\n",
    "This notebook demonstrates how to generate a set of approximately *locally* pareto efficient robot designs using the code in the source directory. This aim is achieved by first solving an extreme linear scalarization problem (a single objective task), and then using a continuation procedure to systematically constrain the objective function values and generate further solutions.\n",
    "\n",
    "# Linear scalarization problems\n",
    "Consider a biobjective optimization problem, which we might write as $$ \\min_{x \\in \\mathcal{X}} \\{f_1(x),f_2(x)\\}$$.\n",
    "\n",
    "A linear scalarization problem converts this into a regular optimization problem by minimizing a convex combination of the objectives. Specifically, given some $\\lambda \\in (0,1)$, we solve $$\\min_{x \\in \\mathcal{X}} \\lambda f_1(x) + (1-\\lambda) f_2(x)$$.\n",
    "\n",
    "It is well known that all solutions to linear scalarization problems are pareto efficient. The converse is generally *not* true, due to the fact that the pareto front is usually not convex.\n",
    "\n",
    "# Constraint methods\n",
    "An alternative approach to scalarizing our problem is to constrain one of the objective values. For instance, given some $\\epsilon \\in \\mathbb{R}$, we could try to solve $$\\min_{x \\in \\mathcal{X}} f_1(x) \\text{ s.t. } f_2(x) < \\epsilon$$ \n",
    "\n",
    "It is not hard to show that all solutions to such constrained problems are pareto efficient, and the converse *is* true as well."
   ]
  },
  {
   "cell_type": "code",
   "execution_count": 140,
   "metadata": {},
   "outputs": [
    {
     "name": "stderr",
     "output_type": "stream",
     "text": [
      "WARNING: replacing module FiniteDifferences.\n",
      "WARNING: replacing module ExtensionSprings.\n",
      "WARNING: replacing module CompressionSprings.\n",
      "WARNING: replacing module Designs.\n",
      "WARNING: replacing module Hopper.\n",
      "WARNING: replacing module Handshake.\n",
      "WARNING: replacing module Optimization.\n"
     ]
    },
    {
     "data": {
      "text/plain": [
       "Main.Optimization"
      ]
     },
     "metadata": {},
     "output_type": "display_data"
    }
   ],
   "source": [
    "using LinearAlgebra\n",
    "include(\"../HopperHandshake.jl\") # reloading HopperHandshake.jl will trigger lots of recompilation"
   ]
  },
  {
   "cell_type": "code",
   "execution_count": 174,
   "metadata": {},
   "outputs": [
    {
     "data": {
      "text/plain": [
       "14-element Vector{Float64}:\n",
       "  1.781182778546335\n",
       "  1.3296151196937402\n",
       "  2.6222772511344017\n",
       "  1.9786929908793418\n",
       "  0.9607418876844281\n",
       "  0.5633305789166443\n",
       "  3.430477834186595\n",
       " -2.1751565554901036\n",
       "  1.5013574229227644\n",
       "  0.3205528701145567\n",
       "  2.563278944332155\n",
       "  3.6495426510211684\n",
       "  0.7529279005004175\n",
       "  1.9942451907443346"
      ]
     },
     "metadata": {},
     "output_type": "display_data"
    }
   ],
   "source": [
    "# going to get an initial guess first to solving a linear scalarization problem, using λ = .9\n",
    "λ = .5\n",
    "N = 20\n",
    "x0 = Designs.random_sample(N^2)\n",
    "cost = map(i->Optimization.cost(x0[:,i],λ),1:N^2)\n",
    "\n",
    "# sort by cost\n",
    "p = sortperm(cost)\n",
    "\n",
    "# optimize a subset\n",
    "cost = map(i->Optimization.lsp_optimize(x0[:,p[i]],λ;maxtime=10.)[1],1:N)\n",
    "\n",
    "# select the best\n",
    "x0 = x0[:,p[argmin(cost)]]"
   ]
  },
  {
   "cell_type": "code",
   "execution_count": 175,
   "metadata": {},
   "outputs": [
    {
     "data": {
      "text/plain": [
       "(-1.7341547821717116e-8, 0.5000000103343464)"
      ]
     },
     "metadata": {},
     "output_type": "display_data"
    }
   ],
   "source": [
    "# next we attempt to solve the scalarization problem\n",
    "minf, minx, ret = Optimization.lsp_optimize(x0,λ;maxtime=30.,ftol_rel = 1e-16)\n",
    "xstar = minx\n",
    "error,weight = Optimization.stationarity_test(minx;tol=1e-9)\n",
    "# run the stationarity test to check first-order efficiency conditions"
   ]
  },
  {
   "cell_type": "markdown",
   "metadata": {},
   "source": [
    "# A continuation approach to generating pareto efficient points\n",
    "We can use our locally pareto $x^\\star$ corresponding to $\\lambda \\approx 0.5$ to generate nearby solutions which represent a tradeoff between the objective functions. Initially we will trade off the objective values in a way that is like \"decreasing\" the value of $\\lambda$. In otherwords, we will decrease $f_2(x)$ and the expense of increasing $f_1(x)$. In the following cell, we will decrease $f_1(x)$ at the expense of $f_2(x)$.\n",
    "\n",
    "This will be accomplished in an iterative fashion. Let $x_0 = x^\\star$ from the above linear scalarization problem, and let $\\Delta > 0.$. We search for a new $x_k$ as follows, $$x_k = \\argmin_{x \\in \\mathcal{X}} \\{f_1(x)\\} \\text{ s.t. } f_2(x) < f_2(x_{k-1})-\\Delta$$\n",
    "\n",
    "To speed up this process, we will use the last solution $x_{k-1}$ as an initial guess for $x_k$ in our solver."
   ]
  },
  {
   "cell_type": "code",
   "execution_count": 185,
   "metadata": {},
   "outputs": [],
   "source": [
    "f1(x) = Hopper.cost(x)                  # the value of f1(x) will be the optimization objective\n",
    "df1(x) = Hopper.cost_grad(x)\n",
    "f2(x) = Handshake.cost(x)               # the value of f2(x) will be constrained\n",
    "df2(x) = Handshake.cost_grad(x)\n",
    "\n",
    "N = 30                                  # number of iterations we will attempt\n",
    "Δ = 0.1                                 # step change in f2 value\n",
    "x1 = zeros((length(minx),N))             \n",
    "x1[:,1] = xstar                          \n",
    "\n",
    "for i=2:N\n",
    "    ϵ = f2(x1[:,i-1])-Δ\n",
    "    minf,minx,ret = Optimization.constraint_optimize(\n",
    "                        f1,\n",
    "                        df1,\n",
    "                        f2,\n",
    "                        df2,\n",
    "                        x1[:,i-1],\n",
    "                        ϵ;\n",
    "                        ftol_rel=1e-12,\n",
    "                        maxtime=60.\n",
    "                    )\n",
    "    if norm(minx-x1[:,i-1]) < Δ^2\n",
    "        x1 = x1[:,1:i-1]\n",
    "        break\n",
    "    end\n",
    "    x1[:,i] = minx\n",
    "end"
   ]
  },
  {
   "cell_type": "code",
   "execution_count": 186,
   "metadata": {},
   "outputs": [],
   "source": [
    "# now switch hopper and handshake to trade off in the other direction\n",
    "f1(x) = Handshake.cost(x)\n",
    "df1(x) = Handshake.cost_grad(x)\n",
    "f2(x) = Hopper.cost(x)\n",
    "df2(x) = Hopper.cost_grad(x)\n",
    "\n",
    "N = 30                                  # number of iterations we will attempt\n",
    "Δ = 0.1                                 # step change in f2 value\n",
    "x2 = zeros((length(minx),N))             \n",
    "x2[:,1] = xstar                          \n",
    "\n",
    "for i=2:N\n",
    "    ϵ = f2(x2[:,i-1])-Δ\n",
    "    minf,minx,ret = Optimization.constraint_optimize(\n",
    "                        f1,\n",
    "                        df1,\n",
    "                        f2,\n",
    "                        df2,\n",
    "                        x2[:,i-1],\n",
    "                        ϵ;\n",
    "                        ftol_rel=1e-16,\n",
    "                        maxtime=60.\n",
    "                    )\n",
    "    if norm(minx-x2[:,i-1]) < Δ^2\n",
    "        x2 = x2[:,1:i-1]\n",
    "        break\n",
    "    end\n",
    "    x2[:,i] = minx\n",
    "end"
   ]
  },
  {
   "cell_type": "code",
   "execution_count": 187,
   "metadata": {},
   "outputs": [
    {
     "data": {
      "text/plain": [
       "14×22 Matrix{Float64}:\n",
       "  0.124656   0.138029   0.134105  …   2.0        2.0        2.0\n",
       "  1.92608    1.99563    2.0           2.0        2.0        2.0\n",
       "  2.49595    2.36622    2.4           0.925814   0.955382   0.967088\n",
       "  1.5708     1.57081    1.9042        2.35619    2.35619    2.35619\n",
       "  0.125543   0.441429   2.0           2.0        2.0        2.0\n",
       "  1.97382    1.99979    1.48587   …   2.0        2.0        2.0\n",
       "  2.43318    1.94089    2.68379       1.92963    1.89609    1.77701\n",
       " -1.5708    -1.57082   -1.5708       -2.35619   -2.35619   -2.35619\n",
       "  0.987477   0.98934    0.966456      1.02106    2.0        2.0\n",
       "  1.16116    1.16       1.15692       0.1        0.1        0.1\n",
       "  1.19182    1.19314    1.19655   …   4.0        4.0        4.0\n",
       "  2.92942    2.93601    2.87157       1.99447    2.28362    2.37188\n",
       "  0.699967   0.699966   0.7           0.878213   0.964602   1.0\n",
       "  1.99998    1.99998    2.0           1.82179    1.7354     1.7"
      ]
     },
     "metadata": {},
     "output_type": "display_data"
    }
   ],
   "source": [
    "x = hcat(x1,x2)\n",
    "\n",
    "# now we can evaluate these solutions\n",
    "stationarity = map(i->Optimization.stationarity_test(x[:,i];tol=1e-9),1:size(x,2))\n",
    "error = map(i->stationarity[i][1],1:length(stationarity))\n",
    "weight = map(i->stationarity[i][2],1:length(stationarity))\n",
    "\n",
    "# evaluate costs\n",
    "hopper = map(i->Hopper.cost(x[:,i]),1:size(x,2))\n",
    "handshake = map(i->Handshake.cost(x[:,i]),1:size(x,2))\n",
    "\n",
    "# sort by hopper\n",
    "p = sortperm(hopper)\n",
    "hopper[:] = hopper[p]\n",
    "handshake[:] = handshake[p]\n",
    "x[:,:] = x[:,p]\n"
   ]
  },
  {
   "cell_type": "code",
   "execution_count": 188,
   "metadata": {},
   "outputs": [
    {
     "data": {
      "image/png": "[encoded data removed]",
      "image/svg+xml": "<?xml version=\"1.0\" encoding=\"utf-8\"?>\n<svg xmlns=\"http://www.w3.org/2000/svg\" xmlns:xlink=\"http://www.w3.org/1999/xlink\" width=\"600\" height=\"400\" viewBox=\"0 0 2400 1600\">\n<defs>\n  <clipPath id=\"clip390\">\n    <rect x=\"0\" y=\"0\" width=\"2400\" height=\"1600\"/>\n  </clipPath>\n</defs>\n<path clip-path=\"url(#clip390)\" d=\"\nM0 1600 L2400 1600 L2400 0 L0 0  Z\n  \" fill=\"#ffffff\" fill-rule=\"evenodd\" fill-opacity=\"1\"/>\n<defs>\n  <clipPath id=\"clip391\">\n    <rect x=\"480\" y=\"0\" width=\"1681\" height=\"1600\"/>\n  </clipPath>\n</defs>\n<path clip-path=\"url(#clip390)\" d=\"\nM155.765 1486.45 L2352.76 1486.45 L2352.76 47.2441 L155.765 47.2441  Z\n  \" fill=\"#ffffff\" fill-rule=\"evenodd\" fill-opacity=\"1\"/>\n<defs>\n  <clipPath id=\"clip392\">\n    <rect x=\"155\" y=\"47\" width=\"2198\" height=\"1440\"/>\n  </clipPath>\n</defs>\n<polyline clip-path=\"url(#clip392)\" style=\"stroke:#000000; stroke-linecap:butt; stroke-linejoin:round; stroke-width:2; stroke-opacity:0.1; fill:none\" points=\"\n  423.056,1486.45 423.056,47.2441 \n  \"/>\n<polyline clip-path=\"url(#clip392)\" style=\"stroke:#000000; stroke-linecap:butt; stroke-linejoin:round; stroke-width:2; stroke-opacity:0.1; fill:none\" points=\"\n  755.053,1486.45 755.053,47.2441 \n  \"/>\n<polyline clip-path=\"url(#clip392)\" style=\"stroke:#000000; stroke-linecap:butt; stroke-linejoin:round; stroke-width:2; stroke-opacity:0.1; fill:none\" points=\"\n  1087.05,1486.45 1087.05,47.2441 \n  \"/>\n<polyline clip-path=\"url(#clip392)\" style=\"stroke:#000000; stroke-linecap:butt; stroke-linejoin:round; stroke-width:2; stroke-opacity:0.1; fill:none\" points=\"\n  1419.05,1486.45 1419.05,47.2441 \n  \"/>\n<polyline clip-path=\"url(#clip392)\" style=\"stroke:#000000; stroke-linecap:butt; stroke-linejoin:round; stroke-width:2; stroke-opacity:0.1; fill:none\" points=\"\n  1751.05,1486.45 1751.05,47.2441 \n  \"/>\n<polyline clip-path=\"url(#clip392)\" style=\"stroke:#000000; stroke-linecap:butt; stroke-linejoin:round; stroke-width:2; stroke-opacity:0.1; fill:none\" points=\"\n  2083.04,1486.45 2083.04,47.2441 \n  \"/>\n<polyline clip-path=\"url(#clip390)\" style=\"stroke:#000000; stroke-linecap:butt; stroke-linejoin:round; stroke-width:4; stroke-opacity:1; fill:none\" points=\"\n  155.765,1486.45 2352.76,1486.45 \n  \"/>\n<polyline clip-path=\"url(#clip390)\" style=\"stroke:#000000; stroke-linecap:butt; stroke-linejoin:round; stroke-width:4; stroke-opacity:1; fill:none\" points=\"\n  423.056,1486.45 423.056,1467.55 \n  \"/>\n<polyline clip-path=\"url(#clip390)\" style=\"stroke:#000000; stroke-linecap:butt; stroke-linejoin:round; stroke-width:4; stroke-opacity:1; fill:none\" points=\"\n  755.053,1486.45 755.053,1467.55 \n  \"/>\n<polyline clip-path=\"url(#clip390)\" style=\"stroke:#000000; stroke-linecap:butt; stroke-linejoin:round; stroke-width:4; stroke-opacity:1; fill:none\" points=\"\n  1087.05,1486.45 1087.05,1467.55 \n  \"/>\n<polyline clip-path=\"url(#clip390)\" style=\"stroke:#000000; stroke-linecap:butt; stroke-linejoin:round; stroke-width:4; stroke-opacity:1; fill:none\" points=\"\n  1419.05,1486.45 1419.05,1467.55 \n  \"/>\n<polyline clip-path=\"url(#clip390)\" style=\"stroke:#000000; stroke-linecap:butt; stroke-linejoin:round; stroke-width:4; stroke-opacity:1; fill:none\" points=\"\n  1751.05,1486.45 1751.05,1467.55 \n  \"/>\n<polyline clip-path=\"url(#clip390)\" style=\"stroke:#000000; stroke-linecap:butt; stroke-linejoin:round; stroke-width:4; stroke-opacity:1; fill:none\" points=\"\n  2083.04,1486.45 2083.04,1467.55 \n  \"/>\n<path clip-path=\"url(#clip390)\" d=\"M390.209 1544.91 L397.847 1544.91 L397.847 1518.55 L389.537 1520.21 L389.537 1515.95 L397.801 1514.29 L402.477 1514.29 L402.477 1544.91 L410.116 1544.91 L410.116 1548.85 L390.209 1548.85 L390.209 1544.91 Z\" fill=\"#000000\" fill-rule=\"evenodd\" fill-opacity=\"1\" /><path clip-path=\"url(#clip390)\" d=\"M419.56 1542.97 L424.445 1542.97 L424.445 1548.85 L419.56 1548.85 L419.56 1542.97 Z\" fill=\"#000000\" fill-rule=\"evenodd\" fill-opacity=\"1\" /><path clip-path=\"url(#clip390)\" d=\"M444.63 1517.37 Q441.018 1517.37 439.19 1520.93 Q437.384 1524.47 437.384 1531.6 Q437.384 1538.71 439.19 1542.27 Q441.018 1545.82 444.63 1545.82 Q448.264 1545.82 450.069 1542.27 Q451.898 1538.71 451.898 1531.6 Q451.898 1524.47 450.069 1520.93 Q448.264 1517.37 444.63 1517.37 M444.63 1513.66 Q450.44 1513.66 453.495 1518.27 Q456.574 1522.85 456.574 1531.6 Q456.574 1540.33 453.495 1544.94 Q450.44 1549.52 444.63 1549.52 Q438.819 1549.52 435.741 1544.94 Q432.685 1540.33 432.685 1531.6 Q432.685 1522.85 435.741 1518.27 Q438.819 1513.66 444.63 1513.66 Z\" fill=\"#000000\" fill-rule=\"evenodd\" fill-opacity=\"1\" /><path clip-path=\"url(#clip390)\" d=\"M722.704 1544.91 L730.343 1544.91 L730.343 1518.55 L722.033 1520.21 L722.033 1515.95 L730.296 1514.29 L734.972 1514.29 L734.972 1544.91 L742.611 1544.91 L742.611 1548.85 L722.704 1548.85 L722.704 1544.91 Z\" fill=\"#000000\" fill-rule=\"evenodd\" fill-opacity=\"1\" /><path clip-path=\"url(#clip390)\" d=\"M752.056 1542.97 L756.94 1542.97 L756.94 1548.85 L752.056 1548.85 L752.056 1542.97 Z\" fill=\"#000000\" fill-rule=\"evenodd\" fill-opacity=\"1\" /><path clip-path=\"url(#clip390)\" d=\"M767.171 1514.29 L785.528 1514.29 L785.528 1518.22 L771.454 1518.22 L771.454 1526.7 Q772.472 1526.35 773.491 1526.19 Q774.509 1526 775.528 1526 Q781.315 1526 784.694 1529.17 Q788.074 1532.34 788.074 1537.76 Q788.074 1543.34 784.602 1546.44 Q781.129 1549.52 774.81 1549.52 Q772.634 1549.52 770.366 1549.15 Q768.12 1548.78 765.713 1548.04 L765.713 1543.34 Q767.796 1544.47 770.018 1545.03 Q772.241 1545.58 774.717 1545.58 Q778.722 1545.58 781.06 1543.48 Q783.398 1541.37 783.398 1537.76 Q783.398 1534.15 781.06 1532.04 Q778.722 1529.94 774.717 1529.94 Q772.842 1529.94 770.967 1530.35 Q769.116 1530.77 767.171 1531.65 L767.171 1514.29 Z\" fill=\"#000000\" fill-rule=\"evenodd\" fill-opacity=\"1\" /><path clip-path=\"url(#clip390)\" d=\"M1058.29 1544.91 L1074.61 1544.91 L1074.61 1548.85 L1052.66 1548.85 L1052.66 1544.91 Q1055.33 1542.16 1059.91 1537.53 Q1064.52 1532.88 1065.7 1531.53 Q1067.94 1529.01 1068.82 1527.27 Q1069.72 1525.51 1069.72 1523.82 Q1069.72 1521.07 1067.78 1519.33 Q1065.86 1517.6 1062.76 1517.6 Q1060.56 1517.6 1058.1 1518.36 Q1055.67 1519.13 1052.9 1520.68 L1052.9 1515.95 Q1055.72 1514.82 1058.17 1514.24 Q1060.63 1513.66 1062.66 1513.66 Q1068.03 1513.66 1071.23 1516.35 Q1074.42 1519.03 1074.42 1523.52 Q1074.42 1525.65 1073.61 1527.57 Q1072.83 1529.47 1070.72 1532.07 Q1070.14 1532.74 1067.04 1535.95 Q1063.94 1539.15 1058.29 1544.91 Z\" fill=\"#000000\" fill-rule=\"evenodd\" fill-opacity=\"1\" /><path clip-path=\"url(#clip390)\" d=\"M1084.42 1542.97 L1089.31 1542.97 L1089.31 1548.85 L1084.42 1548.85 L1084.42 1542.97 Z\" fill=\"#000000\" fill-rule=\"evenodd\" fill-opacity=\"1\" /><path clip-path=\"url(#clip390)\" d=\"M1109.49 1517.37 Q1105.88 1517.37 1104.05 1520.93 Q1102.25 1524.47 1102.25 1531.6 Q1102.25 1538.71 1104.05 1542.27 Q1105.88 1545.82 1109.49 1545.82 Q1113.13 1545.82 1114.93 1542.27 Q1116.76 1538.71 1116.76 1531.6 Q1116.76 1524.47 1114.93 1520.93 Q1113.13 1517.37 1109.49 1517.37 M1109.49 1513.66 Q1115.3 1513.66 1118.36 1518.27 Q1121.44 1522.85 1121.44 1531.6 Q1121.44 1540.33 1118.36 1544.94 Q1115.3 1549.52 1109.49 1549.52 Q1103.68 1549.52 1100.6 1544.94 Q1097.55 1540.33 1097.55 1531.6 Q1097.55 1522.85 1100.6 1518.27 Q1103.68 1513.66 1109.49 1513.66 Z\" fill=\"#000000\" fill-rule=\"evenodd\" fill-opacity=\"1\" /><path clip-path=\"url(#clip390)\" d=\"M1390.78 1544.91 L1407.1 1544.91 L1407.1 1548.85 L1385.16 1548.85 L1385.16 1544.91 Q1387.82 1542.16 1392.4 1537.53 Q1397.01 1532.88 1398.19 1531.53 Q1400.44 1529.01 1401.32 1527.27 Q1402.22 1525.51 1402.22 1523.82 Q1402.22 1521.07 1400.28 1519.33 Q1398.35 1517.6 1395.25 1517.6 Q1393.05 1517.6 1390.6 1518.36 Q1388.17 1519.13 1385.39 1520.68 L1385.39 1515.95 Q1388.22 1514.82 1390.67 1514.24 Q1393.12 1513.66 1395.16 1513.66 Q1400.53 1513.66 1403.72 1516.35 Q1406.92 1519.03 1406.92 1523.52 Q1406.92 1525.65 1406.11 1527.57 Q1405.32 1529.47 1403.22 1532.07 Q1402.64 1532.74 1399.53 1535.95 Q1396.43 1539.15 1390.78 1544.91 Z\" fill=\"#000000\" fill-rule=\"evenodd\" fill-opacity=\"1\" /><path clip-path=\"url(#clip390)\" d=\"M1416.92 1542.97 L1421.8 1542.97 L1421.8 1548.85 L1416.92 1548.85 L1416.92 1542.97 Z\" fill=\"#000000\" fill-rule=\"evenodd\" fill-opacity=\"1\" /><path clip-path=\"url(#clip390)\" d=\"M1432.03 1514.29 L1450.39 1514.29 L1450.39 1518.22 L1436.32 1518.22 L1436.32 1526.7 Q1437.34 1526.35 1438.35 1526.19 Q1439.37 1526 1440.39 1526 Q1446.18 1526 1449.56 1529.17 Q1452.94 1532.34 1452.94 1537.76 Q1452.94 1543.34 1449.46 1546.44 Q1445.99 1549.52 1439.67 1549.52 Q1437.5 1549.52 1435.23 1549.15 Q1432.98 1548.78 1430.58 1548.04 L1430.58 1543.34 Q1432.66 1544.47 1434.88 1545.03 Q1437.1 1545.58 1439.58 1545.58 Q1443.59 1545.58 1445.92 1543.48 Q1448.26 1541.37 1448.26 1537.76 Q1448.26 1534.15 1445.92 1532.04 Q1443.59 1529.94 1439.58 1529.94 Q1437.71 1529.94 1435.83 1530.35 Q1433.98 1530.77 1432.03 1531.65 L1432.03 1514.29 Z\" fill=\"#000000\" fill-rule=\"evenodd\" fill-opacity=\"1\" /><path clip-path=\"url(#clip390)\" d=\"M1732.35 1530.21 Q1735.71 1530.93 1737.59 1533.2 Q1739.48 1535.47 1739.48 1538.8 Q1739.48 1543.92 1735.96 1546.72 Q1732.45 1549.52 1725.97 1549.52 Q1723.79 1549.52 1721.47 1549.08 Q1719.18 1548.66 1716.73 1547.81 L1716.73 1543.29 Q1718.67 1544.43 1720.99 1545.01 Q1723.3 1545.58 1725.83 1545.58 Q1730.22 1545.58 1732.52 1543.85 Q1734.83 1542.11 1734.83 1538.8 Q1734.83 1535.75 1732.68 1534.03 Q1730.55 1532.3 1726.73 1532.3 L1722.7 1532.3 L1722.7 1528.45 L1726.91 1528.45 Q1730.36 1528.45 1732.19 1527.09 Q1734.02 1525.7 1734.02 1523.11 Q1734.02 1520.45 1732.12 1519.03 Q1730.25 1517.6 1726.73 1517.6 Q1724.81 1517.6 1722.61 1518.01 Q1720.41 1518.43 1717.77 1519.31 L1717.77 1515.14 Q1720.43 1514.4 1722.75 1514.03 Q1725.09 1513.66 1727.15 1513.66 Q1732.47 1513.66 1735.57 1516.09 Q1738.67 1518.5 1738.67 1522.62 Q1738.67 1525.49 1737.03 1527.48 Q1735.39 1529.45 1732.35 1530.21 Z\" fill=\"#000000\" fill-rule=\"evenodd\" fill-opacity=\"1\" /><path clip-path=\"url(#clip390)\" d=\"M1748.35 1542.97 L1753.23 1542.97 L1753.23 1548.85 L1748.35 1548.85 L1748.35 1542.97 Z\" fill=\"#000000\" fill-rule=\"evenodd\" fill-opacity=\"1\" /><path clip-path=\"url(#clip390)\" d=\"M1773.42 1517.37 Q1769.81 1517.37 1767.98 1520.93 Q1766.17 1524.47 1766.17 1531.6 Q1766.17 1538.71 1767.98 1542.27 Q1769.81 1545.82 1773.42 1545.82 Q1777.05 1545.82 1778.86 1542.27 Q1780.69 1538.71 1780.69 1531.6 Q1780.69 1524.47 1778.86 1520.93 Q1777.05 1517.37 1773.42 1517.37 M1773.42 1513.66 Q1779.23 1513.66 1782.28 1518.27 Q1785.36 1522.85 1785.36 1531.6 Q1785.36 1540.33 1782.28 1544.94 Q1779.23 1549.52 1773.42 1549.52 Q1767.61 1549.52 1764.53 1544.94 Q1761.47 1540.33 1761.47 1531.6 Q1761.47 1522.85 1764.53 1518.27 Q1767.61 1513.66 1773.42 1513.66 Z\" fill=\"#000000\" fill-rule=\"evenodd\" fill-opacity=\"1\" /><path clip-path=\"url(#clip390)\" d=\"M2064.85 1530.21 Q2068.21 1530.93 2070.08 1533.2 Q2071.98 1535.47 2071.98 1538.8 Q2071.98 1543.92 2068.46 1546.72 Q2064.94 1549.52 2058.46 1549.52 Q2056.28 1549.52 2053.97 1549.08 Q2051.68 1548.66 2049.22 1547.81 L2049.22 1543.29 Q2051.17 1544.43 2053.48 1545.01 Q2055.8 1545.58 2058.32 1545.58 Q2062.72 1545.58 2065.01 1543.85 Q2067.33 1542.11 2067.33 1538.8 Q2067.33 1535.75 2065.17 1534.03 Q2063.04 1532.3 2059.22 1532.3 L2055.2 1532.3 L2055.2 1528.45 L2059.41 1528.45 Q2062.86 1528.45 2064.69 1527.09 Q2066.52 1525.7 2066.52 1523.11 Q2066.52 1520.45 2064.62 1519.03 Q2062.74 1517.6 2059.22 1517.6 Q2057.3 1517.6 2055.1 1518.01 Q2052.9 1518.43 2050.27 1519.31 L2050.27 1515.14 Q2052.93 1514.4 2055.24 1514.03 Q2057.58 1513.66 2059.64 1513.66 Q2064.96 1513.66 2068.07 1516.09 Q2071.17 1518.5 2071.17 1522.62 Q2071.17 1525.49 2069.53 1527.48 Q2067.88 1529.45 2064.85 1530.21 Z\" fill=\"#000000\" fill-rule=\"evenodd\" fill-opacity=\"1\" /><path clip-path=\"url(#clip390)\" d=\"M2080.84 1542.97 L2085.73 1542.97 L2085.73 1548.85 L2080.84 1548.85 L2080.84 1542.97 Z\" fill=\"#000000\" fill-rule=\"evenodd\" fill-opacity=\"1\" /><path clip-path=\"url(#clip390)\" d=\"M2095.96 1514.29 L2114.32 1514.29 L2114.32 1518.22 L2100.24 1518.22 L2100.24 1526.7 Q2101.26 1526.35 2102.28 1526.19 Q2103.3 1526 2104.32 1526 Q2110.1 1526 2113.48 1529.17 Q2116.86 1532.34 2116.86 1537.76 Q2116.86 1543.34 2113.39 1546.44 Q2109.92 1549.52 2103.6 1549.52 Q2101.42 1549.52 2099.15 1549.15 Q2096.91 1548.78 2094.5 1548.04 L2094.5 1543.34 Q2096.59 1544.47 2098.81 1545.03 Q2101.03 1545.58 2103.51 1545.58 Q2107.51 1545.58 2109.85 1543.48 Q2112.19 1541.37 2112.19 1537.76 Q2112.19 1534.15 2109.85 1532.04 Q2107.51 1529.94 2103.51 1529.94 Q2101.63 1529.94 2099.76 1530.35 Q2097.9 1530.77 2095.96 1531.65 L2095.96 1514.29 Z\" fill=\"#000000\" fill-rule=\"evenodd\" fill-opacity=\"1\" /><polyline clip-path=\"url(#clip392)\" style=\"stroke:#000000; stroke-linecap:butt; stroke-linejoin:round; stroke-width:2; stroke-opacity:0.1; fill:none\" points=\"\n  155.765,1322.21 2352.76,1322.21 \n  \"/>\n<polyline clip-path=\"url(#clip392)\" style=\"stroke:#000000; stroke-linecap:butt; stroke-linejoin:round; stroke-width:2; stroke-opacity:0.1; fill:none\" points=\"\n  155.765,963.074 2352.76,963.074 \n  \"/>\n<polyline clip-path=\"url(#clip392)\" style=\"stroke:#000000; stroke-linecap:butt; stroke-linejoin:round; stroke-width:2; stroke-opacity:0.1; fill:none\" points=\"\n  155.765,603.941 2352.76,603.941 \n  \"/>\n<polyline clip-path=\"url(#clip392)\" style=\"stroke:#000000; stroke-linecap:butt; stroke-linejoin:round; stroke-width:2; stroke-opacity:0.1; fill:none\" points=\"\n  155.765,244.809 2352.76,244.809 \n  \"/>\n<polyline clip-path=\"url(#clip390)\" style=\"stroke:#000000; stroke-linecap:butt; stroke-linejoin:round; stroke-width:4; stroke-opacity:1; fill:none\" points=\"\n  155.765,1486.45 155.765,47.2441 \n  \"/>\n<polyline clip-path=\"url(#clip390)\" style=\"stroke:#000000; stroke-linecap:butt; stroke-linejoin:round; stroke-width:4; stroke-opacity:1; fill:none\" points=\"\n  155.765,1322.21 174.663,1322.21 \n  \"/>\n<polyline clip-path=\"url(#clip390)\" style=\"stroke:#000000; stroke-linecap:butt; stroke-linejoin:round; stroke-width:4; stroke-opacity:1; fill:none\" points=\"\n  155.765,963.074 174.663,963.074 \n  \"/>\n<polyline clip-path=\"url(#clip390)\" style=\"stroke:#000000; stroke-linecap:butt; stroke-linejoin:round; stroke-width:4; stroke-opacity:1; fill:none\" points=\"\n  155.765,603.941 174.663,603.941 \n  \"/>\n<polyline clip-path=\"url(#clip390)\" style=\"stroke:#000000; stroke-linecap:butt; stroke-linejoin:round; stroke-width:4; stroke-opacity:1; fill:none\" points=\"\n  155.765,244.809 174.663,244.809 \n  \"/>\n<path clip-path=\"url(#clip390)\" d=\"M53.3995 1335.55 L61.0384 1335.55 L61.0384 1309.19 L52.7282 1310.85 L52.7282 1306.59 L60.9921 1304.93 L65.668 1304.93 L65.668 1335.55 L73.3068 1335.55 L73.3068 1339.49 L53.3995 1339.49 L53.3995 1335.55 Z\" fill=\"#000000\" fill-rule=\"evenodd\" fill-opacity=\"1\" /><path clip-path=\"url(#clip390)\" d=\"M82.7512 1333.61 L87.6354 1333.61 L87.6354 1339.49 L82.7512 1339.49 L82.7512 1333.61 Z\" fill=\"#000000\" fill-rule=\"evenodd\" fill-opacity=\"1\" /><path clip-path=\"url(#clip390)\" d=\"M107.821 1308.01 Q104.209 1308.01 102.381 1311.57 Q100.575 1315.11 100.575 1322.24 Q100.575 1329.35 102.381 1332.91 Q104.209 1336.45 107.821 1336.45 Q111.455 1336.45 113.26 1332.91 Q115.089 1329.35 115.089 1322.24 Q115.089 1315.11 113.26 1311.57 Q111.455 1308.01 107.821 1308.01 M107.821 1304.3 Q113.631 1304.3 116.686 1308.91 Q119.765 1313.49 119.765 1322.24 Q119.765 1330.97 116.686 1335.57 Q113.631 1340.16 107.821 1340.16 Q102.01 1340.16 98.9317 1335.57 Q95.8761 1330.97 95.8761 1322.24 Q95.8761 1313.49 98.9317 1308.91 Q102.01 1304.3 107.821 1304.3 Z\" fill=\"#000000\" fill-rule=\"evenodd\" fill-opacity=\"1\" /><path clip-path=\"url(#clip390)\" d=\"M54.3949 976.419 L62.0337 976.419 L62.0337 950.053 L53.7236 951.72 L53.7236 947.46 L61.9874 945.794 L66.6633 945.794 L66.6633 976.419 L74.3022 976.419 L74.3022 980.354 L54.3949 980.354 L54.3949 976.419 Z\" fill=\"#000000\" fill-rule=\"evenodd\" fill-opacity=\"1\" /><path clip-path=\"url(#clip390)\" d=\"M83.7466 974.474 L88.6308 974.474 L88.6308 980.354 L83.7466 980.354 L83.7466 974.474 Z\" fill=\"#000000\" fill-rule=\"evenodd\" fill-opacity=\"1\" /><path clip-path=\"url(#clip390)\" d=\"M98.8622 945.794 L117.219 945.794 L117.219 949.729 L103.145 949.729 L103.145 958.201 Q104.163 957.854 105.182 957.692 Q106.2 957.507 107.219 957.507 Q113.006 957.507 116.385 960.678 Q119.765 963.849 119.765 969.266 Q119.765 974.845 116.293 977.946 Q112.82 981.025 106.501 981.025 Q104.325 981.025 102.057 980.655 Q99.8113 980.284 97.4039 979.544 L97.4039 974.845 Q99.4872 975.979 101.709 976.534 Q103.932 977.09 106.408 977.09 Q110.413 977.09 112.751 974.983 Q115.089 972.877 115.089 969.266 Q115.089 965.655 112.751 963.548 Q110.413 961.442 106.408 961.442 Q104.534 961.442 102.659 961.859 Q100.807 962.275 98.8622 963.155 L98.8622 945.794 Z\" fill=\"#000000\" fill-rule=\"evenodd\" fill-opacity=\"1\" /><path clip-path=\"url(#clip390)\" d=\"M56.6171 617.286 L72.9365 617.286 L72.9365 621.221 L50.9921 621.221 L50.9921 617.286 Q53.6541 614.531 58.2375 609.902 Q62.8439 605.249 64.0245 603.906 Q66.2698 601.383 67.1494 599.647 Q68.0522 597.888 68.0522 596.198 Q68.0522 593.444 66.1078 591.707 Q64.1865 589.971 61.0847 589.971 Q58.8856 589.971 56.4319 590.735 Q54.0014 591.499 51.2236 593.05 L51.2236 588.328 Q54.0477 587.194 56.5014 586.615 Q58.955 586.036 60.9921 586.036 Q66.3624 586.036 69.5568 588.721 Q72.7513 591.407 72.7513 595.897 Q72.7513 598.027 71.9411 599.948 Q71.1541 601.846 69.0476 604.439 Q68.4689 605.11 65.367 608.328 Q62.2652 611.522 56.6171 617.286 Z\" fill=\"#000000\" fill-rule=\"evenodd\" fill-opacity=\"1\" /><path clip-path=\"url(#clip390)\" d=\"M82.7512 615.342 L87.6354 615.342 L87.6354 621.221 L82.7512 621.221 L82.7512 615.342 Z\" fill=\"#000000\" fill-rule=\"evenodd\" fill-opacity=\"1\" /><path clip-path=\"url(#clip390)\" d=\"M107.821 589.74 Q104.209 589.74 102.381 593.305 Q100.575 596.846 100.575 603.976 Q100.575 611.082 102.381 614.647 Q104.209 618.189 107.821 618.189 Q111.455 618.189 113.26 614.647 Q115.089 611.082 115.089 603.976 Q115.089 596.846 113.26 593.305 Q111.455 589.74 107.821 589.74 M107.821 586.036 Q113.631 586.036 116.686 590.643 Q119.765 595.226 119.765 603.976 Q119.765 612.703 116.686 617.309 Q113.631 621.892 107.821 621.892 Q102.01 621.892 98.9317 617.309 Q95.8761 612.703 95.8761 603.976 Q95.8761 595.226 98.9317 590.643 Q102.01 586.036 107.821 586.036 Z\" fill=\"#000000\" fill-rule=\"evenodd\" fill-opacity=\"1\" /><path clip-path=\"url(#clip390)\" d=\"M57.6125 258.153 L73.9318 258.153 L73.9318 262.089 L51.9875 262.089 L51.9875 258.153 Q54.6495 255.399 59.2328 250.769 Q63.8393 246.116 65.0198 244.774 Q67.2652 242.251 68.1448 240.515 Q69.0476 238.755 69.0476 237.066 Q69.0476 234.311 67.1032 232.575 Q65.1819 230.839 62.08 230.839 Q59.881 230.839 57.4273 231.603 Q54.9967 232.366 52.219 233.917 L52.219 229.195 Q55.043 228.061 57.4967 227.482 Q59.9504 226.904 61.9874 226.904 Q67.3578 226.904 70.5522 229.589 Q73.7466 232.274 73.7466 236.765 Q73.7466 238.894 72.9365 240.816 Q72.1494 242.714 70.0429 245.306 Q69.4642 245.978 66.3624 249.195 Q63.2606 252.39 57.6125 258.153 Z\" fill=\"#000000\" fill-rule=\"evenodd\" fill-opacity=\"1\" /><path clip-path=\"url(#clip390)\" d=\"M83.7466 256.209 L88.6308 256.209 L88.6308 262.089 L83.7466 262.089 L83.7466 256.209 Z\" fill=\"#000000\" fill-rule=\"evenodd\" fill-opacity=\"1\" /><path clip-path=\"url(#clip390)\" d=\"M98.8622 227.529 L117.219 227.529 L117.219 231.464 L103.145 231.464 L103.145 239.936 Q104.163 239.589 105.182 239.427 Q106.2 239.241 107.219 239.241 Q113.006 239.241 116.385 242.413 Q119.765 245.584 119.765 251.001 Q119.765 256.579 116.293 259.681 Q112.82 262.76 106.501 262.76 Q104.325 262.76 102.057 262.389 Q99.8113 262.019 97.4039 261.278 L97.4039 256.579 Q99.4872 257.714 101.709 258.269 Q103.932 258.825 106.408 258.825 Q110.413 258.825 112.751 256.718 Q115.089 254.612 115.089 251.001 Q115.089 247.39 112.751 245.283 Q110.413 243.177 106.408 243.177 Q104.534 243.177 102.659 243.593 Q100.807 244.01 98.8622 244.89 L98.8622 227.529 Z\" fill=\"#000000\" fill-rule=\"evenodd\" fill-opacity=\"1\" /><circle clip-path=\"url(#clip392)\" cx=\"217.944\" cy=\"87.9763\" r=\"14\" fill=\"#009af9\" fill-rule=\"evenodd\" fill-opacity=\"1\" stroke=\"#000000\" stroke-opacity=\"1\" stroke-width=\"3.2\"/>\n<circle clip-path=\"url(#clip392)\" cx=\"219.11\" cy=\"91.2264\" r=\"14\" fill=\"#009af9\" fill-rule=\"evenodd\" fill-opacity=\"1\" stroke=\"#000000\" stroke-opacity=\"1\" stroke-width=\"3.2\"/>\n<circle clip-path=\"url(#clip392)\" cx=\"281.668\" cy=\"195.435\" r=\"14\" fill=\"#009af9\" fill-rule=\"evenodd\" fill-opacity=\"1\" stroke=\"#000000\" stroke-opacity=\"1\" stroke-width=\"3.2\"/>\n<circle clip-path=\"url(#clip392)\" cx=\"348.067\" cy=\"271.953\" r=\"14\" fill=\"#009af9\" fill-rule=\"evenodd\" fill-opacity=\"1\" stroke=\"#000000\" stroke-opacity=\"1\" stroke-width=\"3.2\"/>\n<circle clip-path=\"url(#clip392)\" cx=\"348.067\" cy=\"271.953\" r=\"14\" fill=\"#009af9\" fill-rule=\"evenodd\" fill-opacity=\"1\" stroke=\"#000000\" stroke-opacity=\"1\" stroke-width=\"3.2\"/>\n<circle clip-path=\"url(#clip392)\" cx=\"416.077\" cy=\"343.78\" r=\"14\" fill=\"#009af9\" fill-rule=\"evenodd\" fill-opacity=\"1\" stroke=\"#000000\" stroke-opacity=\"1\" stroke-width=\"3.2\"/>\n<circle clip-path=\"url(#clip392)\" cx=\"486.299\" cy=\"415.607\" r=\"14\" fill=\"#009af9\" fill-rule=\"evenodd\" fill-opacity=\"1\" stroke=\"#000000\" stroke-opacity=\"1\" stroke-width=\"3.2\"/>\n<circle clip-path=\"url(#clip392)\" cx=\"557.986\" cy=\"487.433\" r=\"14\" fill=\"#009af9\" fill-rule=\"evenodd\" fill-opacity=\"1\" stroke=\"#000000\" stroke-opacity=\"1\" stroke-width=\"3.2\"/>\n<circle clip-path=\"url(#clip392)\" cx=\"630.805\" cy=\"559.26\" r=\"14\" fill=\"#009af9\" fill-rule=\"evenodd\" fill-opacity=\"1\" stroke=\"#000000\" stroke-opacity=\"1\" stroke-width=\"3.2\"/>\n<circle clip-path=\"url(#clip392)\" cx=\"704.595\" cy=\"631.086\" r=\"14\" fill=\"#009af9\" fill-rule=\"evenodd\" fill-opacity=\"1\" stroke=\"#000000\" stroke-opacity=\"1\" stroke-width=\"3.2\"/>\n<circle clip-path=\"url(#clip392)\" cx=\"779.277\" cy=\"702.913\" r=\"14\" fill=\"#009af9\" fill-rule=\"evenodd\" fill-opacity=\"1\" stroke=\"#000000\" stroke-opacity=\"1\" stroke-width=\"3.2\"/>\n<circle clip-path=\"url(#clip392)\" cx=\"855.276\" cy=\"774.739\" r=\"14\" fill=\"#009af9\" fill-rule=\"evenodd\" fill-opacity=\"1\" stroke=\"#000000\" stroke-opacity=\"1\" stroke-width=\"3.2\"/>\n<circle clip-path=\"url(#clip392)\" cx=\"934.045\" cy=\"846.566\" r=\"14\" fill=\"#009af9\" fill-rule=\"evenodd\" fill-opacity=\"1\" stroke=\"#000000\" stroke-opacity=\"1\" stroke-width=\"3.2\"/>\n<circle clip-path=\"url(#clip392)\" cx=\"1017.37\" cy=\"918.392\" r=\"14\" fill=\"#009af9\" fill-rule=\"evenodd\" fill-opacity=\"1\" stroke=\"#000000\" stroke-opacity=\"1\" stroke-width=\"3.2\"/>\n<circle clip-path=\"url(#clip392)\" cx=\"1108.81\" cy=\"990.219\" r=\"14\" fill=\"#009af9\" fill-rule=\"evenodd\" fill-opacity=\"1\" stroke=\"#000000\" stroke-opacity=\"1\" stroke-width=\"3.2\"/>\n<circle clip-path=\"url(#clip392)\" cx=\"1214.62\" cy=\"1062.05\" r=\"14\" fill=\"#009af9\" fill-rule=\"evenodd\" fill-opacity=\"1\" stroke=\"#000000\" stroke-opacity=\"1\" stroke-width=\"3.2\"/>\n<circle clip-path=\"url(#clip392)\" cx=\"1340.52\" cy=\"1133.87\" r=\"14\" fill=\"#009af9\" fill-rule=\"evenodd\" fill-opacity=\"1\" stroke=\"#000000\" stroke-opacity=\"1\" stroke-width=\"3.2\"/>\n<circle clip-path=\"url(#clip392)\" cx=\"1487.67\" cy=\"1205.7\" r=\"14\" fill=\"#009af9\" fill-rule=\"evenodd\" fill-opacity=\"1\" stroke=\"#000000\" stroke-opacity=\"1\" stroke-width=\"3.2\"/>\n<circle clip-path=\"url(#clip392)\" cx=\"1662.86\" cy=\"1277.52\" r=\"14\" fill=\"#009af9\" fill-rule=\"evenodd\" fill-opacity=\"1\" stroke=\"#000000\" stroke-opacity=\"1\" stroke-width=\"3.2\"/>\n<circle clip-path=\"url(#clip392)\" cx=\"1877.15\" cy=\"1349.35\" r=\"14\" fill=\"#009af9\" fill-rule=\"evenodd\" fill-opacity=\"1\" stroke=\"#000000\" stroke-opacity=\"1\" stroke-width=\"3.2\"/>\n<circle clip-path=\"url(#clip392)\" cx=\"2156.94\" cy=\"1421.18\" r=\"14\" fill=\"#009af9\" fill-rule=\"evenodd\" fill-opacity=\"1\" stroke=\"#000000\" stroke-opacity=\"1\" stroke-width=\"3.2\"/>\n<circle clip-path=\"url(#clip392)\" cx=\"2290.58\" cy=\"1445.72\" r=\"14\" fill=\"#009af9\" fill-rule=\"evenodd\" fill-opacity=\"1\" stroke=\"#000000\" stroke-opacity=\"1\" stroke-width=\"3.2\"/>\n<circle clip-path=\"url(#clip392)\" cx=\"348.067\" cy=\"271.953\" r=\"14\" fill=\"#e26f46\" fill-rule=\"evenodd\" fill-opacity=\"1\" stroke=\"#000000\" stroke-opacity=\"1\" stroke-width=\"3.2\"/>\n<path clip-path=\"url(#clip390)\" d=\"\nM1982.98 250.738 L2279.52 250.738 L2279.52 95.2176 L1982.98 95.2176  Z\n  \" fill=\"#ffffff\" fill-rule=\"evenodd\" fill-opacity=\"1\"/>\n<polyline clip-path=\"url(#clip390)\" style=\"stroke:#000000; stroke-linecap:butt; stroke-linejoin:round; stroke-width:4; stroke-opacity:1; fill:none\" points=\"\n  1982.98,250.738 2279.52,250.738 2279.52,95.2176 1982.98,95.2176 1982.98,250.738 \n  \"/>\n<circle clip-path=\"url(#clip390)\" cx=\"2080.63\" cy=\"147.058\" r=\"23\" fill=\"#009af9\" fill-rule=\"evenodd\" fill-opacity=\"1\" stroke=\"#000000\" stroke-opacity=\"1\" stroke-width=\"5.12\"/>\n<path clip-path=\"url(#clip390)\" d=\"M2192.11 166.745 Q2190.31 171.375 2188.59 172.787 Q2186.88 174.199 2184.01 174.199 L2180.61 174.199 L2180.61 170.634 L2183.11 170.634 Q2184.87 170.634 2185.84 169.8 Q2186.81 168.967 2187.99 165.865 L2188.76 163.921 L2178.27 138.412 L2182.78 138.412 L2190.89 158.689 L2198.99 138.412 L2203.5 138.412 L2192.11 166.745 Z\" fill=\"#000000\" fill-rule=\"evenodd\" fill-opacity=\"1\" /><path clip-path=\"url(#clip390)\" d=\"M2210.79 160.402 L2218.43 160.402 L2218.43 134.037 L2210.12 135.703 L2210.12 131.444 L2218.39 129.778 L2223.06 129.778 L2223.06 160.402 L2230.7 160.402 L2230.7 164.338 L2210.79 164.338 L2210.79 160.402 Z\" fill=\"#000000\" fill-rule=\"evenodd\" fill-opacity=\"1\" /><circle clip-path=\"url(#clip390)\" cx=\"2080.63\" cy=\"198.898\" r=\"23\" fill=\"#e26f46\" fill-rule=\"evenodd\" fill-opacity=\"1\" stroke=\"#000000\" stroke-opacity=\"1\" stroke-width=\"5.12\"/>\n<path clip-path=\"url(#clip390)\" d=\"M2192.11 218.585 Q2190.31 223.215 2188.59 224.627 Q2186.88 226.039 2184.01 226.039 L2180.61 226.039 L2180.61 222.474 L2183.11 222.474 Q2184.87 222.474 2185.84 221.64 Q2186.81 220.807 2187.99 217.705 L2188.76 215.761 L2178.27 190.252 L2182.78 190.252 L2190.89 210.529 L2198.99 190.252 L2203.5 190.252 L2192.11 218.585 Z\" fill=\"#000000\" fill-rule=\"evenodd\" fill-opacity=\"1\" /><path clip-path=\"url(#clip390)\" d=\"M2214.01 212.242 L2230.33 212.242 L2230.33 216.178 L2208.39 216.178 L2208.39 212.242 Q2211.05 209.488 2215.63 204.858 Q2220.24 200.205 2221.42 198.863 Q2223.66 196.34 2224.54 194.604 Q2225.45 192.844 2225.45 191.155 Q2225.45 188.4 2223.5 186.664 Q2221.58 184.928 2218.48 184.928 Q2216.28 184.928 2213.83 185.692 Q2211.4 186.455 2208.62 188.006 L2208.62 183.284 Q2211.44 182.15 2213.9 181.571 Q2216.35 180.993 2218.39 180.993 Q2223.76 180.993 2226.95 183.678 Q2230.15 186.363 2230.15 190.854 Q2230.15 192.983 2229.34 194.905 Q2228.55 196.803 2226.44 199.395 Q2225.86 200.067 2222.76 203.284 Q2219.66 206.479 2214.01 212.242 Z\" fill=\"#000000\" fill-rule=\"evenodd\" fill-opacity=\"1\" /></svg>\n",
      "text/html": [
       "<?xml version=\"1.0\" encoding=\"utf-8\"?>\n",
       "<svg xmlns=\"http://www.w3.org/2000/svg\" xmlns:xlink=\"http://www.w3.org/1999/xlink\" width=\"600\" height=\"400\" viewBox=\"0 0 2400 1600\">\n",
       "<defs>\n",
       "  <clipPath id=\"clip440\">\n",
       "    <rect x=\"0\" y=\"0\" width=\"2400\" height=\"1600\"/>\n",
       "  </clipPath>\n",
       "</defs>\n",
       "<path clip-path=\"url(#clip440)\" d=\"\n",
       "M0 1600 L2400 1600 L2400 0 L0 0  Z\n",
       "  \" fill=\"#ffffff\" fill-rule=\"evenodd\" fill-opacity=\"1\"/>\n",
       "<defs>\n",
       "  <clipPath id=\"clip441\">\n",
       "    <rect x=\"480\" y=\"0\" width=\"1681\" height=\"1600\"/>\n",
       "  </clipPath>\n",
       "</defs>\n",
       "<path clip-path=\"url(#clip440)\" d=\"\n",
       "M155.765 1486.45 L2352.76 1486.45 L2352.76 47.2441 L155.765 47.2441  Z\n",
       "  \" fill=\"#ffffff\" fill-rule=\"evenodd\" fill-opacity=\"1\"/>\n",
       "<defs>\n",
       "  <clipPath id=\"clip442\">\n",
       "    <rect x=\"155\" y=\"47\" width=\"2198\" height=\"1440\"/>\n",
       "  </clipPath>\n",
       "</defs>\n",
       "<polyline clip-path=\"url(#clip442)\" style=\"stroke:#000000; stroke-linecap:butt; stroke-linejoin:round; stroke-width:2; stroke-opacity:0.1; fill:none\" points=\"\n",
       "  423.056,1486.45 423.056,47.2441 \n",
       "  \"/>\n",
       "<polyline clip-path=\"url(#clip442)\" style=\"stroke:#000000; stroke-linecap:butt; stroke-linejoin:round; stroke-width:2; stroke-opacity:0.1; fill:none\" points=\"\n",
       "  755.053,1486.45 755.053,47.2441 \n",
       "  \"/>\n",
       "<polyline clip-path=\"url(#clip442)\" style=\"stroke:#000000; stroke-linecap:butt; stroke-linejoin:round; stroke-width:2; stroke-opacity:0.1; fill:none\" points=\"\n",
       "  1087.05,1486.45 1087.05,47.2441 \n",
       "  \"/>\n",
       "<polyline clip-path=\"url(#clip442)\" style=\"stroke:#000000; stroke-linecap:butt; stroke-linejoin:round; stroke-width:2; stroke-opacity:0.1; fill:none\" points=\"\n",
       "  1419.05,1486.45 1419.05,47.2441 \n",
       "  \"/>\n",
       "<polyline clip-path=\"url(#clip442)\" style=\"stroke:#000000; stroke-linecap:butt; stroke-linejoin:round; stroke-width:2; stroke-opacity:0.1; fill:none\" points=\"\n",
       "  1751.05,1486.45 1751.05,47.2441 \n",
       "  \"/>\n",
       "<polyline clip-path=\"url(#clip442)\" style=\"stroke:#000000; stroke-linecap:butt; stroke-linejoin:round; stroke-width:2; stroke-opacity:0.1; fill:none\" points=\"\n",
       "  2083.04,1486.45 2083.04,47.2441 \n",
       "  \"/>\n",
       "<polyline clip-path=\"url(#clip440)\" style=\"stroke:#000000; stroke-linecap:butt; stroke-linejoin:round; stroke-width:4; stroke-opacity:1; fill:none\" points=\"\n",
       "  155.765,1486.45 2352.76,1486.45 \n",
       "  \"/>\n",
       "<polyline clip-path=\"url(#clip440)\" style=\"stroke:#000000; stroke-linecap:butt; stroke-linejoin:round; stroke-width:4; stroke-opacity:1; fill:none\" points=\"\n",
       "  423.056,1486.45 423.056,1467.55 \n",
       "  \"/>\n",
       "<polyline clip-path=\"url(#clip440)\" style=\"stroke:#000000; stroke-linecap:butt; stroke-linejoin:round; stroke-width:4; stroke-opacity:1; fill:none\" points=\"\n",
       "  755.053,1486.45 755.053,1467.55 \n",
       "  \"/>\n",
       "<polyline clip-path=\"url(#clip440)\" style=\"stroke:#000000; stroke-linecap:butt; stroke-linejoin:round; stroke-width:4; stroke-opacity:1; fill:none\" points=\"\n",
       "  1087.05,1486.45 1087.05,1467.55 \n",
       "  \"/>\n",
       "<polyline clip-path=\"url(#clip440)\" style=\"stroke:#000000; stroke-linecap:butt; stroke-linejoin:round; stroke-width:4; stroke-opacity:1; fill:none\" points=\"\n",
       "  1419.05,1486.45 1419.05,1467.55 \n",
       "  \"/>\n",
       "<polyline clip-path=\"url(#clip440)\" style=\"stroke:#000000; stroke-linecap:butt; stroke-linejoin:round; stroke-width:4; stroke-opacity:1; fill:none\" points=\"\n",
       "  1751.05,1486.45 1751.05,1467.55 \n",
       "  \"/>\n",
       "<polyline clip-path=\"url(#clip440)\" style=\"stroke:#000000; stroke-linecap:butt; stroke-linejoin:round; stroke-width:4; stroke-opacity:1; fill:none\" points=\"\n",
       "  2083.04,1486.45 2083.04,1467.55 \n",
       "  \"/>\n",
       "<path clip-path=\"url(#clip440)\" d=\"M390.209 1544.91 L397.847 1544.91 L397.847 1518.55 L389.537 1520.21 L389.537 1515.95 L397.801 1514.29 L402.477 1514.29 L402.477 1544.91 L410.116 1544.91 L410.116 1548.85 L390.209 1548.85 L390.209 1544.91 Z\" fill=\"#000000\" fill-rule=\"evenodd\" fill-opacity=\"1\" /><path clip-path=\"url(#clip440)\" d=\"M419.56 1542.97 L424.445 1542.97 L424.445 1548.85 L419.56 1548.85 L419.56 1542.97 Z\" fill=\"#000000\" fill-rule=\"evenodd\" fill-opacity=\"1\" /><path clip-path=\"url(#clip440)\" d=\"M444.63 1517.37 Q441.018 1517.37 439.19 1520.93 Q437.384 1524.47 437.384 1531.6 Q437.384 1538.71 439.19 1542.27 Q441.018 1545.82 444.63 1545.82 Q448.264 1545.82 450.069 1542.27 Q451.898 1538.71 451.898 1531.6 Q451.898 1524.47 450.069 1520.93 Q448.264 1517.37 444.63 1517.37 M444.63 1513.66 Q450.44 1513.66 453.495 1518.27 Q456.574 1522.85 456.574 1531.6 Q456.574 1540.33 453.495 1544.94 Q450.44 1549.52 444.63 1549.52 Q438.819 1549.52 435.741 1544.94 Q432.685 1540.33 432.685 1531.6 Q432.685 1522.85 435.741 1518.27 Q438.819 1513.66 444.63 1513.66 Z\" fill=\"#000000\" fill-rule=\"evenodd\" fill-opacity=\"1\" /><path clip-path=\"url(#clip440)\" d=\"M722.704 1544.91 L730.343 1544.91 L730.343 1518.55 L722.033 1520.21 L722.033 1515.95 L730.296 1514.29 L734.972 1514.29 L734.972 1544.91 L742.611 1544.91 L742.611 1548.85 L722.704 1548.85 L722.704 1544.91 Z\" fill=\"#000000\" fill-rule=\"evenodd\" fill-opacity=\"1\" /><path clip-path=\"url(#clip440)\" d=\"M752.056 1542.97 L756.94 1542.97 L756.94 1548.85 L752.056 1548.85 L752.056 1542.97 Z\" fill=\"#000000\" fill-rule=\"evenodd\" fill-opacity=\"1\" /><path clip-path=\"url(#clip440)\" d=\"M767.171 1514.29 L785.528 1514.29 L785.528 1518.22 L771.454 1518.22 L771.454 1526.7 Q772.472 1526.35 773.491 1526.19 Q774.509 1526 775.528 1526 Q781.315 1526 784.694 1529.17 Q788.074 1532.34 788.074 1537.76 Q788.074 1543.34 784.602 1546.44 Q781.129 1549.52 774.81 1549.52 Q772.634 1549.52 770.366 1549.15 Q768.12 1548.78 765.713 1548.04 L765.713 1543.34 Q767.796 1544.47 770.018 1545.03 Q772.241 1545.58 774.717 1545.58 Q778.722 1545.58 781.06 1543.48 Q783.398 1541.37 783.398 1537.76 Q783.398 1534.15 781.06 1532.04 Q778.722 1529.94 774.717 1529.94 Q772.842 1529.94 770.967 1530.35 Q769.116 1530.77 767.171 1531.65 L767.171 1514.29 Z\" fill=\"#000000\" fill-rule=\"evenodd\" fill-opacity=\"1\" /><path clip-path=\"url(#clip440)\" d=\"M1058.29 1544.91 L1074.61 1544.91 L1074.61 1548.85 L1052.66 1548.85 L1052.66 1544.91 Q1055.33 1542.16 1059.91 1537.53 Q1064.52 1532.88 1065.7 1531.53 Q1067.94 1529.01 1068.82 1527.27 Q1069.72 1525.51 1069.72 1523.82 Q1069.72 1521.07 1067.78 1519.33 Q1065.86 1517.6 1062.76 1517.6 Q1060.56 1517.6 1058.1 1518.36 Q1055.67 1519.13 1052.9 1520.68 L1052.9 1515.95 Q1055.72 1514.82 1058.17 1514.24 Q1060.63 1513.66 1062.66 1513.66 Q1068.03 1513.66 1071.23 1516.35 Q1074.42 1519.03 1074.42 1523.52 Q1074.42 1525.65 1073.61 1527.57 Q1072.83 1529.47 1070.72 1532.07 Q1070.14 1532.74 1067.04 1535.95 Q1063.94 1539.15 1058.29 1544.91 Z\" fill=\"#000000\" fill-rule=\"evenodd\" fill-opacity=\"1\" /><path clip-path=\"url(#clip440)\" d=\"M1084.42 1542.97 L1089.31 1542.97 L1089.31 1548.85 L1084.42 1548.85 L1084.42 1542.97 Z\" fill=\"#000000\" fill-rule=\"evenodd\" fill-opacity=\"1\" /><path clip-path=\"url(#clip440)\" d=\"M1109.49 1517.37 Q1105.88 1517.37 1104.05 1520.93 Q1102.25 1524.47 1102.25 1531.6 Q1102.25 1538.71 1104.05 1542.27 Q1105.88 1545.82 1109.49 1545.82 Q1113.13 1545.82 1114.93 1542.27 Q1116.76 1538.71 1116.76 1531.6 Q1116.76 1524.47 1114.93 1520.93 Q1113.13 1517.37 1109.49 1517.37 M1109.49 1513.66 Q1115.3 1513.66 1118.36 1518.27 Q1121.44 1522.85 1121.44 1531.6 Q1121.44 1540.33 1118.36 1544.94 Q1115.3 1549.52 1109.49 1549.52 Q1103.68 1549.52 1100.6 1544.94 Q1097.55 1540.33 1097.55 1531.6 Q1097.55 1522.85 1100.6 1518.27 Q1103.68 1513.66 1109.49 1513.66 Z\" fill=\"#000000\" fill-rule=\"evenodd\" fill-opacity=\"1\" /><path clip-path=\"url(#clip440)\" d=\"M1390.78 1544.91 L1407.1 1544.91 L1407.1 1548.85 L1385.16 1548.85 L1385.16 1544.91 Q1387.82 1542.16 1392.4 1537.53 Q1397.01 1532.88 1398.19 1531.53 Q1400.44 1529.01 1401.32 1527.27 Q1402.22 1525.51 1402.22 1523.82 Q1402.22 1521.07 1400.28 1519.33 Q1398.35 1517.6 1395.25 1517.6 Q1393.05 1517.6 1390.6 1518.36 Q1388.17 1519.13 1385.39 1520.68 L1385.39 1515.95 Q1388.22 1514.82 1390.67 1514.24 Q1393.12 1513.66 1395.16 1513.66 Q1400.53 1513.66 1403.72 1516.35 Q1406.92 1519.03 1406.92 1523.52 Q1406.92 1525.65 1406.11 1527.57 Q1405.32 1529.47 1403.22 1532.07 Q1402.64 1532.74 1399.53 1535.95 Q1396.43 1539.15 1390.78 1544.91 Z\" fill=\"#000000\" fill-rule=\"evenodd\" fill-opacity=\"1\" /><path clip-path=\"url(#clip440)\" d=\"M1416.92 1542.97 L1421.8 1542.97 L1421.8 1548.85 L1416.92 1548.85 L1416.92 1542.97 Z\" fill=\"#000000\" fill-rule=\"evenodd\" fill-opacity=\"1\" /><path clip-path=\"url(#clip440)\" d=\"M1432.03 1514.29 L1450.39 1514.29 L1450.39 1518.22 L1436.32 1518.22 L1436.32 1526.7 Q1437.34 1526.35 1438.35 1526.19 Q1439.37 1526 1440.39 1526 Q1446.18 1526 1449.56 1529.17 Q1452.94 1532.34 1452.94 1537.76 Q1452.94 1543.34 1449.46 1546.44 Q1445.99 1549.52 1439.67 1549.52 Q1437.5 1549.52 1435.23 1549.15 Q1432.98 1548.78 1430.58 1548.04 L1430.58 1543.34 Q1432.66 1544.47 1434.88 1545.03 Q1437.1 1545.58 1439.58 1545.58 Q1443.59 1545.58 1445.92 1543.48 Q1448.26 1541.37 1448.26 1537.76 Q1448.26 1534.15 1445.92 1532.04 Q1443.59 1529.94 1439.58 1529.94 Q1437.71 1529.94 1435.83 1530.35 Q1433.98 1530.77 1432.03 1531.65 L1432.03 1514.29 Z\" fill=\"#000000\" fill-rule=\"evenodd\" fill-opacity=\"1\" /><path clip-path=\"url(#clip440)\" d=\"M1732.35 1530.21 Q1735.71 1530.93 1737.59 1533.2 Q1739.48 1535.47 1739.48 1538.8 Q1739.48 1543.92 1735.96 1546.72 Q1732.45 1549.52 1725.97 1549.52 Q1723.79 1549.52 1721.47 1549.08 Q1719.18 1548.66 1716.73 1547.81 L1716.73 1543.29 Q1718.67 1544.43 1720.99 1545.01 Q1723.3 1545.58 1725.83 1545.58 Q1730.22 1545.58 1732.52 1543.85 Q1734.83 1542.11 1734.83 1538.8 Q1734.83 1535.75 1732.68 1534.03 Q1730.55 1532.3 1726.73 1532.3 L1722.7 1532.3 L1722.7 1528.45 L1726.91 1528.45 Q1730.36 1528.45 1732.19 1527.09 Q1734.02 1525.7 1734.02 1523.11 Q1734.02 1520.45 1732.12 1519.03 Q1730.25 1517.6 1726.73 1517.6 Q1724.81 1517.6 1722.61 1518.01 Q1720.41 1518.43 1717.77 1519.31 L1717.77 1515.14 Q1720.43 1514.4 1722.75 1514.03 Q1725.09 1513.66 1727.15 1513.66 Q1732.47 1513.66 1735.57 1516.09 Q1738.67 1518.5 1738.67 1522.62 Q1738.67 1525.49 1737.03 1527.48 Q1735.39 1529.45 1732.35 1530.21 Z\" fill=\"#000000\" fill-rule=\"evenodd\" fill-opacity=\"1\" /><path clip-path=\"url(#clip440)\" d=\"M1748.35 1542.97 L1753.23 1542.97 L1753.23 1548.85 L1748.35 1548.85 L1748.35 1542.97 Z\" fill=\"#000000\" fill-rule=\"evenodd\" fill-opacity=\"1\" /><path clip-path=\"url(#clip440)\" d=\"M1773.42 1517.37 Q1769.81 1517.37 1767.98 1520.93 Q1766.17 1524.47 1766.17 1531.6 Q1766.17 1538.71 1767.98 1542.27 Q1769.81 1545.82 1773.42 1545.82 Q1777.05 1545.82 1778.86 1542.27 Q1780.69 1538.71 1780.69 1531.6 Q1780.69 1524.47 1778.86 1520.93 Q1777.05 1517.37 1773.42 1517.37 M1773.42 1513.66 Q1779.23 1513.66 1782.28 1518.27 Q1785.36 1522.85 1785.36 1531.6 Q1785.36 1540.33 1782.28 1544.94 Q1779.23 1549.52 1773.42 1549.52 Q1767.61 1549.52 1764.53 1544.94 Q1761.47 1540.33 1761.47 1531.6 Q1761.47 1522.85 1764.53 1518.27 Q1767.61 1513.66 1773.42 1513.66 Z\" fill=\"#000000\" fill-rule=\"evenodd\" fill-opacity=\"1\" /><path clip-path=\"url(#clip440)\" d=\"M2064.85 1530.21 Q2068.21 1530.93 2070.08 1533.2 Q2071.98 1535.47 2071.98 1538.8 Q2071.98 1543.92 2068.46 1546.72 Q2064.94 1549.52 2058.46 1549.52 Q2056.28 1549.52 2053.97 1549.08 Q2051.68 1548.66 2049.22 1547.81 L2049.22 1543.29 Q2051.17 1544.43 2053.48 1545.01 Q2055.8 1545.58 2058.32 1545.58 Q2062.72 1545.58 2065.01 1543.85 Q2067.33 1542.11 2067.33 1538.8 Q2067.33 1535.75 2065.17 1534.03 Q2063.04 1532.3 2059.22 1532.3 L2055.2 1532.3 L2055.2 1528.45 L2059.41 1528.45 Q2062.86 1528.45 2064.69 1527.09 Q2066.52 1525.7 2066.52 1523.11 Q2066.52 1520.45 2064.62 1519.03 Q2062.74 1517.6 2059.22 1517.6 Q2057.3 1517.6 2055.1 1518.01 Q2052.9 1518.43 2050.27 1519.31 L2050.27 1515.14 Q2052.93 1514.4 2055.24 1514.03 Q2057.58 1513.66 2059.64 1513.66 Q2064.96 1513.66 2068.07 1516.09 Q2071.17 1518.5 2071.17 1522.62 Q2071.17 1525.49 2069.53 1527.48 Q2067.88 1529.45 2064.85 1530.21 Z\" fill=\"#000000\" fill-rule=\"evenodd\" fill-opacity=\"1\" /><path clip-path=\"url(#clip440)\" d=\"M2080.84 1542.97 L2085.73 1542.97 L2085.73 1548.85 L2080.84 1548.85 L2080.84 1542.97 Z\" fill=\"#000000\" fill-rule=\"evenodd\" fill-opacity=\"1\" /><path clip-path=\"url(#clip440)\" d=\"M2095.96 1514.29 L2114.32 1514.29 L2114.32 1518.22 L2100.24 1518.22 L2100.24 1526.7 Q2101.26 1526.35 2102.28 1526.19 Q2103.3 1526 2104.32 1526 Q2110.1 1526 2113.48 1529.17 Q2116.86 1532.34 2116.86 1537.76 Q2116.86 1543.34 2113.39 1546.44 Q2109.92 1549.52 2103.6 1549.52 Q2101.42 1549.52 2099.15 1549.15 Q2096.91 1548.78 2094.5 1548.04 L2094.5 1543.34 Q2096.59 1544.47 2098.81 1545.03 Q2101.03 1545.58 2103.51 1545.58 Q2107.51 1545.58 2109.85 1543.48 Q2112.19 1541.37 2112.19 1537.76 Q2112.19 1534.15 2109.85 1532.04 Q2107.51 1529.94 2103.51 1529.94 Q2101.63 1529.94 2099.76 1530.35 Q2097.9 1530.77 2095.96 1531.65 L2095.96 1514.29 Z\" fill=\"#000000\" fill-rule=\"evenodd\" fill-opacity=\"1\" /><polyline clip-path=\"url(#clip442)\" style=\"stroke:#000000; stroke-linecap:butt; stroke-linejoin:round; stroke-width:2; stroke-opacity:0.1; fill:none\" points=\"\n",
       "  155.765,1322.21 2352.76,1322.21 \n",
       "  \"/>\n",
       "<polyline clip-path=\"url(#clip442)\" style=\"stroke:#000000; stroke-linecap:butt; stroke-linejoin:round; stroke-width:2; stroke-opacity:0.1; fill:none\" points=\"\n",
       "  155.765,963.074 2352.76,963.074 \n",
       "  \"/>\n",
       "<polyline clip-path=\"url(#clip442)\" style=\"stroke:#000000; stroke-linecap:butt; stroke-linejoin:round; stroke-width:2; stroke-opacity:0.1; fill:none\" points=\"\n",
       "  155.765,603.941 2352.76,603.941 \n",
       "  \"/>\n",
       "<polyline clip-path=\"url(#clip442)\" style=\"stroke:#000000; stroke-linecap:butt; stroke-linejoin:round; stroke-width:2; stroke-opacity:0.1; fill:none\" points=\"\n",
       "  155.765,244.809 2352.76,244.809 \n",
       "  \"/>\n",
       "<polyline clip-path=\"url(#clip440)\" style=\"stroke:#000000; stroke-linecap:butt; stroke-linejoin:round; stroke-width:4; stroke-opacity:1; fill:none\" points=\"\n",
       "  155.765,1486.45 155.765,47.2441 \n",
       "  \"/>\n",
       "<polyline clip-path=\"url(#clip440)\" style=\"stroke:#000000; stroke-linecap:butt; stroke-linejoin:round; stroke-width:4; stroke-opacity:1; fill:none\" points=\"\n",
       "  155.765,1322.21 174.663,1322.21 \n",
       "  \"/>\n",
       "<polyline clip-path=\"url(#clip440)\" style=\"stroke:#000000; stroke-linecap:butt; stroke-linejoin:round; stroke-width:4; stroke-opacity:1; fill:none\" points=\"\n",
       "  155.765,963.074 174.663,963.074 \n",
       "  \"/>\n",
       "<polyline clip-path=\"url(#clip440)\" style=\"stroke:#000000; stroke-linecap:butt; stroke-linejoin:round; stroke-width:4; stroke-opacity:1; fill:none\" points=\"\n",
       "  155.765,603.941 174.663,603.941 \n",
       "  \"/>\n",
       "<polyline clip-path=\"url(#clip440)\" style=\"stroke:#000000; stroke-linecap:butt; stroke-linejoin:round; stroke-width:4; stroke-opacity:1; fill:none\" points=\"\n",
       "  155.765,244.809 174.663,244.809 \n",
       "  \"/>\n",
       "<path clip-path=\"url(#clip440)\" d=\"M53.3995 1335.55 L61.0384 1335.55 L61.0384 1309.19 L52.7282 1310.85 L52.7282 1306.59 L60.9921 1304.93 L65.668 1304.93 L65.668 1335.55 L73.3068 1335.55 L73.3068 1339.49 L53.3995 1339.49 L53.3995 1335.55 Z\" fill=\"#000000\" fill-rule=\"evenodd\" fill-opacity=\"1\" /><path clip-path=\"url(#clip440)\" d=\"M82.7512 1333.61 L87.6354 1333.61 L87.6354 1339.49 L82.7512 1339.49 L82.7512 1333.61 Z\" fill=\"#000000\" fill-rule=\"evenodd\" fill-opacity=\"1\" /><path clip-path=\"url(#clip440)\" d=\"M107.821 1308.01 Q104.209 1308.01 102.381 1311.57 Q100.575 1315.11 100.575 1322.24 Q100.575 1329.35 102.381 1332.91 Q104.209 1336.45 107.821 1336.45 Q111.455 1336.45 113.26 1332.91 Q115.089 1329.35 115.089 1322.24 Q115.089 1315.11 113.26 1311.57 Q111.455 1308.01 107.821 1308.01 M107.821 1304.3 Q113.631 1304.3 116.686 1308.91 Q119.765 1313.49 119.765 1322.24 Q119.765 1330.97 116.686 1335.57 Q113.631 1340.16 107.821 1340.16 Q102.01 1340.16 98.9317 1335.57 Q95.8761 1330.97 95.8761 1322.24 Q95.8761 1313.49 98.9317 1308.91 Q102.01 1304.3 107.821 1304.3 Z\" fill=\"#000000\" fill-rule=\"evenodd\" fill-opacity=\"1\" /><path clip-path=\"url(#clip440)\" d=\"M54.3949 976.419 L62.0337 976.419 L62.0337 950.053 L53.7236 951.72 L53.7236 947.46 L61.9874 945.794 L66.6633 945.794 L66.6633 976.419 L74.3022 976.419 L74.3022 980.354 L54.3949 980.354 L54.3949 976.419 Z\" fill=\"#000000\" fill-rule=\"evenodd\" fill-opacity=\"1\" /><path clip-path=\"url(#clip440)\" d=\"M83.7466 974.474 L88.6308 974.474 L88.6308 980.354 L83.7466 980.354 L83.7466 974.474 Z\" fill=\"#000000\" fill-rule=\"evenodd\" fill-opacity=\"1\" /><path clip-path=\"url(#clip440)\" d=\"M98.8622 945.794 L117.219 945.794 L117.219 949.729 L103.145 949.729 L103.145 958.201 Q104.163 957.854 105.182 957.692 Q106.2 957.507 107.219 957.507 Q113.006 957.507 116.385 960.678 Q119.765 963.849 119.765 969.266 Q119.765 974.845 116.293 977.946 Q112.82 981.025 106.501 981.025 Q104.325 981.025 102.057 980.655 Q99.8113 980.284 97.4039 979.544 L97.4039 974.845 Q99.4872 975.979 101.709 976.534 Q103.932 977.09 106.408 977.09 Q110.413 977.09 112.751 974.983 Q115.089 972.877 115.089 969.266 Q115.089 965.655 112.751 963.548 Q110.413 961.442 106.408 961.442 Q104.534 961.442 102.659 961.859 Q100.807 962.275 98.8622 963.155 L98.8622 945.794 Z\" fill=\"#000000\" fill-rule=\"evenodd\" fill-opacity=\"1\" /><path clip-path=\"url(#clip440)\" d=\"M56.6171 617.286 L72.9365 617.286 L72.9365 621.221 L50.9921 621.221 L50.9921 617.286 Q53.6541 614.531 58.2375 609.902 Q62.8439 605.249 64.0245 603.906 Q66.2698 601.383 67.1494 599.647 Q68.0522 597.888 68.0522 596.198 Q68.0522 593.444 66.1078 591.707 Q64.1865 589.971 61.0847 589.971 Q58.8856 589.971 56.4319 590.735 Q54.0014 591.499 51.2236 593.05 L51.2236 588.328 Q54.0477 587.194 56.5014 586.615 Q58.955 586.036 60.9921 586.036 Q66.3624 586.036 69.5568 588.721 Q72.7513 591.407 72.7513 595.897 Q72.7513 598.027 71.9411 599.948 Q71.1541 601.846 69.0476 604.439 Q68.4689 605.11 65.367 608.328 Q62.2652 611.522 56.6171 617.286 Z\" fill=\"#000000\" fill-rule=\"evenodd\" fill-opacity=\"1\" /><path clip-path=\"url(#clip440)\" d=\"M82.7512 615.342 L87.6354 615.342 L87.6354 621.221 L82.7512 621.221 L82.7512 615.342 Z\" fill=\"#000000\" fill-rule=\"evenodd\" fill-opacity=\"1\" /><path clip-path=\"url(#clip440)\" d=\"M107.821 589.74 Q104.209 589.74 102.381 593.305 Q100.575 596.846 100.575 603.976 Q100.575 611.082 102.381 614.647 Q104.209 618.189 107.821 618.189 Q111.455 618.189 113.26 614.647 Q115.089 611.082 115.089 603.976 Q115.089 596.846 113.26 593.305 Q111.455 589.74 107.821 589.74 M107.821 586.036 Q113.631 586.036 116.686 590.643 Q119.765 595.226 119.765 603.976 Q119.765 612.703 116.686 617.309 Q113.631 621.892 107.821 621.892 Q102.01 621.892 98.9317 617.309 Q95.8761 612.703 95.8761 603.976 Q95.8761 595.226 98.9317 590.643 Q102.01 586.036 107.821 586.036 Z\" fill=\"#000000\" fill-rule=\"evenodd\" fill-opacity=\"1\" /><path clip-path=\"url(#clip440)\" d=\"M57.6125 258.153 L73.9318 258.153 L73.9318 262.089 L51.9875 262.089 L51.9875 258.153 Q54.6495 255.399 59.2328 250.769 Q63.8393 246.116 65.0198 244.774 Q67.2652 242.251 68.1448 240.515 Q69.0476 238.755 69.0476 237.066 Q69.0476 234.311 67.1032 232.575 Q65.1819 230.839 62.08 230.839 Q59.881 230.839 57.4273 231.603 Q54.9967 232.366 52.219 233.917 L52.219 229.195 Q55.043 228.061 57.4967 227.482 Q59.9504 226.904 61.9874 226.904 Q67.3578 226.904 70.5522 229.589 Q73.7466 232.274 73.7466 236.765 Q73.7466 238.894 72.9365 240.816 Q72.1494 242.714 70.0429 245.306 Q69.4642 245.978 66.3624 249.195 Q63.2606 252.39 57.6125 258.153 Z\" fill=\"#000000\" fill-rule=\"evenodd\" fill-opacity=\"1\" /><path clip-path=\"url(#clip440)\" d=\"M83.7466 256.209 L88.6308 256.209 L88.6308 262.089 L83.7466 262.089 L83.7466 256.209 Z\" fill=\"#000000\" fill-rule=\"evenodd\" fill-opacity=\"1\" /><path clip-path=\"url(#clip440)\" d=\"M98.8622 227.529 L117.219 227.529 L117.219 231.464 L103.145 231.464 L103.145 239.936 Q104.163 239.589 105.182 239.427 Q106.2 239.241 107.219 239.241 Q113.006 239.241 116.385 242.413 Q119.765 245.584 119.765 251.001 Q119.765 256.579 116.293 259.681 Q112.82 262.76 106.501 262.76 Q104.325 262.76 102.057 262.389 Q99.8113 262.019 97.4039 261.278 L97.4039 256.579 Q99.4872 257.714 101.709 258.269 Q103.932 258.825 106.408 258.825 Q110.413 258.825 112.751 256.718 Q115.089 254.612 115.089 251.001 Q115.089 247.39 112.751 245.283 Q110.413 243.177 106.408 243.177 Q104.534 243.177 102.659 243.593 Q100.807 244.01 98.8622 244.89 L98.8622 227.529 Z\" fill=\"#000000\" fill-rule=\"evenodd\" fill-opacity=\"1\" /><circle clip-path=\"url(#clip442)\" cx=\"217.944\" cy=\"87.9763\" r=\"14\" fill=\"#009af9\" fill-rule=\"evenodd\" fill-opacity=\"1\" stroke=\"#000000\" stroke-opacity=\"1\" stroke-width=\"3.2\"/>\n",
       "<circle clip-path=\"url(#clip442)\" cx=\"219.11\" cy=\"91.2264\" r=\"14\" fill=\"#009af9\" fill-rule=\"evenodd\" fill-opacity=\"1\" stroke=\"#000000\" stroke-opacity=\"1\" stroke-width=\"3.2\"/>\n",
       "<circle clip-path=\"url(#clip442)\" cx=\"281.668\" cy=\"195.435\" r=\"14\" fill=\"#009af9\" fill-rule=\"evenodd\" fill-opacity=\"1\" stroke=\"#000000\" stroke-opacity=\"1\" stroke-width=\"3.2\"/>\n",
       "<circle clip-path=\"url(#clip442)\" cx=\"348.067\" cy=\"271.953\" r=\"14\" fill=\"#009af9\" fill-rule=\"evenodd\" fill-opacity=\"1\" stroke=\"#000000\" stroke-opacity=\"1\" stroke-width=\"3.2\"/>\n",
       "<circle clip-path=\"url(#clip442)\" cx=\"348.067\" cy=\"271.953\" r=\"14\" fill=\"#009af9\" fill-rule=\"evenodd\" fill-opacity=\"1\" stroke=\"#000000\" stroke-opacity=\"1\" stroke-width=\"3.2\"/>\n",
       "<circle clip-path=\"url(#clip442)\" cx=\"416.077\" cy=\"343.78\" r=\"14\" fill=\"#009af9\" fill-rule=\"evenodd\" fill-opacity=\"1\" stroke=\"#000000\" stroke-opacity=\"1\" stroke-width=\"3.2\"/>\n",
       "<circle clip-path=\"url(#clip442)\" cx=\"486.299\" cy=\"415.607\" r=\"14\" fill=\"#009af9\" fill-rule=\"evenodd\" fill-opacity=\"1\" stroke=\"#000000\" stroke-opacity=\"1\" stroke-width=\"3.2\"/>\n",
       "<circle clip-path=\"url(#clip442)\" cx=\"557.986\" cy=\"487.433\" r=\"14\" fill=\"#009af9\" fill-rule=\"evenodd\" fill-opacity=\"1\" stroke=\"#000000\" stroke-opacity=\"1\" stroke-width=\"3.2\"/>\n",
       "<circle clip-path=\"url(#clip442)\" cx=\"630.805\" cy=\"559.26\" r=\"14\" fill=\"#009af9\" fill-rule=\"evenodd\" fill-opacity=\"1\" stroke=\"#000000\" stroke-opacity=\"1\" stroke-width=\"3.2\"/>\n",
       "<circle clip-path=\"url(#clip442)\" cx=\"704.595\" cy=\"631.086\" r=\"14\" fill=\"#009af9\" fill-rule=\"evenodd\" fill-opacity=\"1\" stroke=\"#000000\" stroke-opacity=\"1\" stroke-width=\"3.2\"/>\n",
       "<circle clip-path=\"url(#clip442)\" cx=\"779.277\" cy=\"702.913\" r=\"14\" fill=\"#009af9\" fill-rule=\"evenodd\" fill-opacity=\"1\" stroke=\"#000000\" stroke-opacity=\"1\" stroke-width=\"3.2\"/>\n",
       "<circle clip-path=\"url(#clip442)\" cx=\"855.276\" cy=\"774.739\" r=\"14\" fill=\"#009af9\" fill-rule=\"evenodd\" fill-opacity=\"1\" stroke=\"#000000\" stroke-opacity=\"1\" stroke-width=\"3.2\"/>\n",
       "<circle clip-path=\"url(#clip442)\" cx=\"934.045\" cy=\"846.566\" r=\"14\" fill=\"#009af9\" fill-rule=\"evenodd\" fill-opacity=\"1\" stroke=\"#000000\" stroke-opacity=\"1\" stroke-width=\"3.2\"/>\n",
       "<circle clip-path=\"url(#clip442)\" cx=\"1017.37\" cy=\"918.392\" r=\"14\" fill=\"#009af9\" fill-rule=\"evenodd\" fill-opacity=\"1\" stroke=\"#000000\" stroke-opacity=\"1\" stroke-width=\"3.2\"/>\n",
       "<circle clip-path=\"url(#clip442)\" cx=\"1108.81\" cy=\"990.219\" r=\"14\" fill=\"#009af9\" fill-rule=\"evenodd\" fill-opacity=\"1\" stroke=\"#000000\" stroke-opacity=\"1\" stroke-width=\"3.2\"/>\n",
       "<circle clip-path=\"url(#clip442)\" cx=\"1214.62\" cy=\"1062.05\" r=\"14\" fill=\"#009af9\" fill-rule=\"evenodd\" fill-opacity=\"1\" stroke=\"#000000\" stroke-opacity=\"1\" stroke-width=\"3.2\"/>\n",
       "<circle clip-path=\"url(#clip442)\" cx=\"1340.52\" cy=\"1133.87\" r=\"14\" fill=\"#009af9\" fill-rule=\"evenodd\" fill-opacity=\"1\" stroke=\"#000000\" stroke-opacity=\"1\" stroke-width=\"3.2\"/>\n",
       "<circle clip-path=\"url(#clip442)\" cx=\"1487.67\" cy=\"1205.7\" r=\"14\" fill=\"#009af9\" fill-rule=\"evenodd\" fill-opacity=\"1\" stroke=\"#000000\" stroke-opacity=\"1\" stroke-width=\"3.2\"/>\n",
       "<circle clip-path=\"url(#clip442)\" cx=\"1662.86\" cy=\"1277.52\" r=\"14\" fill=\"#009af9\" fill-rule=\"evenodd\" fill-opacity=\"1\" stroke=\"#000000\" stroke-opacity=\"1\" stroke-width=\"3.2\"/>\n",
       "<circle clip-path=\"url(#clip442)\" cx=\"1877.15\" cy=\"1349.35\" r=\"14\" fill=\"#009af9\" fill-rule=\"evenodd\" fill-opacity=\"1\" stroke=\"#000000\" stroke-opacity=\"1\" stroke-width=\"3.2\"/>\n",
       "<circle clip-path=\"url(#clip442)\" cx=\"2156.94\" cy=\"1421.18\" r=\"14\" fill=\"#009af9\" fill-rule=\"evenodd\" fill-opacity=\"1\" stroke=\"#000000\" stroke-opacity=\"1\" stroke-width=\"3.2\"/>\n",
       "<circle clip-path=\"url(#clip442)\" cx=\"2290.58\" cy=\"1445.72\" r=\"14\" fill=\"#009af9\" fill-rule=\"evenodd\" fill-opacity=\"1\" stroke=\"#000000\" stroke-opacity=\"1\" stroke-width=\"3.2\"/>\n",
       "<circle clip-path=\"url(#clip442)\" cx=\"348.067\" cy=\"271.953\" r=\"14\" fill=\"#e26f46\" fill-rule=\"evenodd\" fill-opacity=\"1\" stroke=\"#000000\" stroke-opacity=\"1\" stroke-width=\"3.2\"/>\n",
       "<path clip-path=\"url(#clip440)\" d=\"\n",
       "M1982.98 250.738 L2279.52 250.738 L2279.52 95.2176 L1982.98 95.2176  Z\n",
       "  \" fill=\"#ffffff\" fill-rule=\"evenodd\" fill-opacity=\"1\"/>\n",
       "<polyline clip-path=\"url(#clip440)\" style=\"stroke:#000000; stroke-linecap:butt; stroke-linejoin:round; stroke-width:4; stroke-opacity:1; fill:none\" points=\"\n",
       "  1982.98,250.738 2279.52,250.738 2279.52,95.2176 1982.98,95.2176 1982.98,250.738 \n",
       "  \"/>\n",
       "<circle clip-path=\"url(#clip440)\" cx=\"2080.63\" cy=\"147.058\" r=\"23\" fill=\"#009af9\" fill-rule=\"evenodd\" fill-opacity=\"1\" stroke=\"#000000\" stroke-opacity=\"1\" stroke-width=\"5.12\"/>\n",
       "<path clip-path=\"url(#clip440)\" d=\"M2192.11 166.745 Q2190.31 171.375 2188.59 172.787 Q2186.88 174.199 2184.01 174.199 L2180.61 174.199 L2180.61 170.634 L2183.11 170.634 Q2184.87 170.634 2185.84 169.8 Q2186.81 168.967 2187.99 165.865 L2188.76 163.921 L2178.27 138.412 L2182.78 138.412 L2190.89 158.689 L2198.99 138.412 L2203.5 138.412 L2192.11 166.745 Z\" fill=\"#000000\" fill-rule=\"evenodd\" fill-opacity=\"1\" /><path clip-path=\"url(#clip440)\" d=\"M2210.79 160.402 L2218.43 160.402 L2218.43 134.037 L2210.12 135.703 L2210.12 131.444 L2218.39 129.778 L2223.06 129.778 L2223.06 160.402 L2230.7 160.402 L2230.7 164.338 L2210.79 164.338 L2210.79 160.402 Z\" fill=\"#000000\" fill-rule=\"evenodd\" fill-opacity=\"1\" /><circle clip-path=\"url(#clip440)\" cx=\"2080.63\" cy=\"198.898\" r=\"23\" fill=\"#e26f46\" fill-rule=\"evenodd\" fill-opacity=\"1\" stroke=\"#000000\" stroke-opacity=\"1\" stroke-width=\"5.12\"/>\n",
       "<path clip-path=\"url(#clip440)\" d=\"M2192.11 218.585 Q2190.31 223.215 2188.59 224.627 Q2186.88 226.039 2184.01 226.039 L2180.61 226.039 L2180.61 222.474 L2183.11 222.474 Q2184.87 222.474 2185.84 221.64 Q2186.81 220.807 2187.99 217.705 L2188.76 215.761 L2178.27 190.252 L2182.78 190.252 L2190.89 210.529 L2198.99 190.252 L2203.5 190.252 L2192.11 218.585 Z\" fill=\"#000000\" fill-rule=\"evenodd\" fill-opacity=\"1\" /><path clip-path=\"url(#clip440)\" d=\"M2214.01 212.242 L2230.33 212.242 L2230.33 216.178 L2208.39 216.178 L2208.39 212.242 Q2211.05 209.488 2215.63 204.858 Q2220.24 200.205 2221.42 198.863 Q2223.66 196.34 2224.54 194.604 Q2225.45 192.844 2225.45 191.155 Q2225.45 188.4 2223.5 186.664 Q2221.58 184.928 2218.48 184.928 Q2216.28 184.928 2213.83 185.692 Q2211.4 186.455 2208.62 188.006 L2208.62 183.284 Q2211.44 182.15 2213.9 181.571 Q2216.35 180.993 2218.39 180.993 Q2223.76 180.993 2226.95 183.678 Q2230.15 186.363 2230.15 190.854 Q2230.15 192.983 2229.34 194.905 Q2228.55 196.803 2226.44 199.395 Q2225.86 200.067 2222.76 203.284 Q2219.66 206.479 2214.01 212.242 Z\" fill=\"#000000\" fill-rule=\"evenodd\" fill-opacity=\"1\" /></svg>\n"
      ]
     },
     "metadata": {},
     "output_type": "display_data"
    }
   ],
   "source": [
    "using Plots\n",
    "plt = scatter(hopper,handshake)\n",
    "scatter(plt, [Hopper.cost(xstar)], [Handshake.cost(xstar)])"
   ]
  }
 ],
 "metadata": {
  "kernelspec": {
   "display_name": "Julia 1.7.0",
   "language": "julia",
   "name": "julia-1.7"
  },
  "language_info": {
   "file_extension": ".jl",
   "mimetype": "application/julia",
   "name": "julia",
   "version": "1.7.0"
  },
  "orig_nbformat": 4
 },
 "nbformat": 4,
 "nbformat_minor": 2
}
